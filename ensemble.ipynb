{
 "cells": [
  {
   "cell_type": "code",
   "execution_count": 144,
   "metadata": {},
   "outputs": [],
   "source": [
    "import numpy as np"
   ]
  },
  {
   "cell_type": "code",
   "execution_count": 145,
   "metadata": {},
   "outputs": [],
   "source": [
    "# load models\n",
    "from keras.models import load_model\n",
    "from keras.preprocessing.image import ImageDataGenerator\n",
    "model1 = load_model('model1.h5')\n",
    "model2 = load_model('model2.h5')\n",
    "model3 = load_model('model3.h5')\n",
    "model4 = load_model('model4.h5')"
   ]
  },
  {
   "cell_type": "code",
   "execution_count": 146,
   "metadata": {},
   "outputs": [
    {
     "name": "stdout",
     "output_type": "stream",
     "text": [
      "Found 30 images belonging to 2 classes.\n"
     ]
    }
   ],
   "source": [
    "train_datagen = ImageDataGenerator(rescale=1./255,\n",
    "                                      shear_range=0.2, \n",
    "                                        zoom_range=0.2,\n",
    "                                        horizontal_flip=True)\n",
    "train_set = train_datagen.flow_from_directory(\n",
    "        'dataset/train',\n",
    "        target_size = (32,32),\n",
    "        color_mode=\"grayscale\",\n",
    "        batch_size=4,\n",
    "        class_mode='binary'\n",
    "        )"
   ]
  },
  {
   "cell_type": "code",
   "execution_count": 147,
   "metadata": {},
   "outputs": [
    {
     "name": "stdout",
     "output_type": "stream",
     "text": [
      "Found 30 images belonging to 2 classes.\n"
     ]
    }
   ],
   "source": [
    "test_datagen = ImageDataGenerator(rescale=1./255)\n",
    "test_set = test_datagen.flow_from_directory(\n",
    "        'dataset/test',\n",
    "        target_size=(32,32),\n",
    "        batch_size=4,\n",
    "        color_mode=\"grayscale\",\n",
    "        class_mode='binary')"
   ]
  },
  {
   "cell_type": "code",
   "execution_count": 148,
   "metadata": {},
   "outputs": [],
   "source": [
    "models = [model1, model2, model3, model4]"
   ]
  },
  {
   "cell_type": "code",
   "execution_count": 149,
   "metadata": {},
   "outputs": [],
   "source": [
    "preds = [model.predict(train_set) for model in models]"
   ]
  },
  {
   "cell_type": "code",
   "execution_count": 150,
   "metadata": {},
   "outputs": [
    {
     "data": {
      "text/plain": [
       "array([[[1.13362372e-02],\n",
       "        [2.06147134e-02],\n",
       "        [9.71921325e-01],\n",
       "        [9.85933423e-01],\n",
       "        [6.62171841e-03],\n",
       "        [9.86170411e-01],\n",
       "        [2.37840414e-03],\n",
       "        [2.88789868e-02],\n",
       "        [9.89944458e-01],\n",
       "        [9.94513333e-01],\n",
       "        [6.46749139e-03],\n",
       "        [5.10290265e-02],\n",
       "        [9.99452233e-01],\n",
       "        [1.90866411e-01],\n",
       "        [9.99993443e-01],\n",
       "        [5.78065276e-01],\n",
       "        [7.52870679e-01],\n",
       "        [6.91910088e-02],\n",
       "        [9.57039714e-01],\n",
       "        [2.58350372e-03],\n",
       "        [4.29484248e-02],\n",
       "        [9.89172995e-01],\n",
       "        [5.81751764e-01],\n",
       "        [3.41568291e-02],\n",
       "        [3.32948075e-05],\n",
       "        [9.79447126e-01],\n",
       "        [8.72605979e-01],\n",
       "        [9.98394847e-01],\n",
       "        [9.20452833e-01],\n",
       "        [9.39731479e-01]],\n",
       "\n",
       "       [[4.99561131e-01],\n",
       "        [4.99575198e-01],\n",
       "        [4.99572098e-01],\n",
       "        [4.99574214e-01],\n",
       "        [4.99573737e-01],\n",
       "        [4.99468029e-01],\n",
       "        [4.99572545e-01],\n",
       "        [4.99576092e-01],\n",
       "        [4.99556661e-01],\n",
       "        [4.99607533e-01],\n",
       "        [4.99532759e-01],\n",
       "        [4.99554127e-01],\n",
       "        [4.99578506e-01],\n",
       "        [4.99580622e-01],\n",
       "        [4.99574304e-01],\n",
       "        [4.99571741e-01],\n",
       "        [4.99541044e-01],\n",
       "        [4.99566168e-01],\n",
       "        [4.99547392e-01],\n",
       "        [4.99574244e-01],\n",
       "        [4.99574602e-01],\n",
       "        [4.99537021e-01],\n",
       "        [4.99573767e-01],\n",
       "        [4.99569416e-01],\n",
       "        [4.99563187e-01],\n",
       "        [4.99567658e-01],\n",
       "        [4.99557853e-01],\n",
       "        [4.99583691e-01],\n",
       "        [4.99557257e-01],\n",
       "        [4.99561399e-01]],\n",
       "\n",
       "       [[4.71944124e-01],\n",
       "        [2.86233127e-02],\n",
       "        [9.79510546e-01],\n",
       "        [4.22329187e-01],\n",
       "        [1.29502922e-01],\n",
       "        [9.92065549e-01],\n",
       "        [8.06975484e-01],\n",
       "        [9.42697585e-01],\n",
       "        [4.33773607e-01],\n",
       "        [1.14896536e-01],\n",
       "        [1.06989950e-01],\n",
       "        [7.50877798e-01],\n",
       "        [1.49789453e-02],\n",
       "        [3.91274989e-02],\n",
       "        [1.61777854e-01],\n",
       "        [9.42906260e-01],\n",
       "        [9.29646373e-01],\n",
       "        [8.92015159e-01],\n",
       "        [8.40417206e-01],\n",
       "        [9.12697971e-01],\n",
       "        [8.64835858e-01],\n",
       "        [4.25816834e-01],\n",
       "        [1.47579312e-02],\n",
       "        [8.31988454e-01],\n",
       "        [3.76553923e-01],\n",
       "        [9.80513871e-01],\n",
       "        [8.38685036e-01],\n",
       "        [9.35344458e-01],\n",
       "        [5.03978372e-01],\n",
       "        [6.75787032e-02]],\n",
       "\n",
       "       [[8.55094910e-01],\n",
       "        [1.28135383e-01],\n",
       "        [9.85223174e-01],\n",
       "        [5.84891438e-03],\n",
       "        [7.66277432e-01],\n",
       "        [9.35999990e-01],\n",
       "        [3.57571244e-03],\n",
       "        [9.35482144e-01],\n",
       "        [4.61068749e-03],\n",
       "        [7.52031803e-04],\n",
       "        [7.15404749e-04],\n",
       "        [1.01214647e-03],\n",
       "        [6.32012069e-01],\n",
       "        [9.87539530e-01],\n",
       "        [3.80176306e-03],\n",
       "        [6.03969991e-02],\n",
       "        [1.25233531e-02],\n",
       "        [8.23229551e-04],\n",
       "        [7.03589141e-01],\n",
       "        [8.38344038e-01],\n",
       "        [7.79420137e-04],\n",
       "        [8.82790387e-02],\n",
       "        [8.84056091e-04],\n",
       "        [9.93587196e-01],\n",
       "        [8.26051235e-01],\n",
       "        [9.85368848e-01],\n",
       "        [6.26906574e-01],\n",
       "        [9.94360685e-01],\n",
       "        [9.63324070e-01],\n",
       "        [3.07198733e-01]]], dtype=float32)"
      ]
     },
     "execution_count": 150,
     "metadata": {},
     "output_type": "execute_result"
    }
   ],
   "source": [
    "preds = np.array(preds)\n",
    "preds"
   ]
  },
  {
   "cell_type": "code",
   "execution_count": 151,
   "metadata": {},
   "outputs": [
    {
     "data": {
      "text/plain": [
       "array([[1.8379364 ],\n",
       "       [0.6769486 ],\n",
       "       [3.4362273 ],\n",
       "       [1.9136857 ],\n",
       "       [1.4019758 ],\n",
       "       [3.413704  ],\n",
       "       [1.3125021 ],\n",
       "       [2.4066348 ],\n",
       "       [1.9278854 ],\n",
       "       [1.6097693 ],\n",
       "       [0.61370564],\n",
       "       [1.3024731 ],\n",
       "       [2.1460218 ],\n",
       "       [1.7171141 ],\n",
       "       [1.6651473 ],\n",
       "       [2.08094   ],\n",
       "       [2.1945815 ],\n",
       "       [1.4615955 ],\n",
       "       [3.0005934 ],\n",
       "       [2.2531998 ],\n",
       "       [1.4081383 ],\n",
       "       [2.002806  ],\n",
       "       [1.0969675 ],\n",
       "       [2.3593018 ],\n",
       "       [1.7022016 ],\n",
       "       [3.4448977 ],\n",
       "       [2.8377554 ],\n",
       "       [3.4276836 ],\n",
       "       [2.8873124 ],\n",
       "       [1.8140703 ]], dtype=float32)"
      ]
     },
     "execution_count": 151,
     "metadata": {},
     "output_type": "execute_result"
    }
   ],
   "source": [
    "summed = np.sum(preds, axis=0)\n",
    "summed"
   ]
  },
  {
   "cell_type": "code",
   "execution_count": 159,
   "metadata": {},
   "outputs": [
    {
     "name": "stdout",
     "output_type": "stream",
     "text": [
      "[0 0 0 0 0 0 0 0 0 0 0 0 0 0 0 0 0 0 0 0 0 0 0 0 0 0 0 0 0 0]\n"
     ]
    }
   ],
   "source": [
    "ensemble_preds = np.argmax(summed, axis=1)\n",
    "print(ensemble_preds)"
   ]
  },
  {
   "cell_type": "code",
   "execution_count": 153,
   "metadata": {},
   "outputs": [],
   "source": [
    "prediction1 = (model1.predict(train_set) > 0.5).astype(\"int32\")\n",
    "prediction2 = (model2.predict(train_set) > 0.5).astype(\"int32\")\n",
    "prediction3 = (model3.predict(train_set) > 0.5).astype(\"int32\")\n",
    "prediction4 = (model4.predict(train_set) > 0.5).astype(\"int32\")"
   ]
  },
  {
   "cell_type": "code",
   "execution_count": 154,
   "metadata": {},
   "outputs": [
    {
     "name": "stdout",
     "output_type": "stream",
     "text": [
      "0.7\n",
      "0.5\n",
      "0.5666666666666667\n",
      "0.5666666666666667\n",
      "0.5\n"
     ]
    }
   ],
   "source": [
    "from sklearn.metrics import accuracy_score\n",
    "print(accuracy_score(test_set.classes, prediction1))\n",
    "print(accuracy_score(test_set.classes, prediction2))\n",
    "print(accuracy_score(test_set.classes, prediction3))\n",
    "print(accuracy_score(test_set.classes, prediction4))\n",
    "print(accuracy_score(test_set.classes, ensemble_preds))"
   ]
  },
  {
   "cell_type": "code",
   "execution_count": 155,
   "metadata": {},
   "outputs": [
    {
     "data": {
      "text/plain": [
       "array([[0.19618   ],\n",
       "       [0.45151756],\n",
       "       [0.39639074],\n",
       "       [0.78331729],\n",
       "       [0.5177885 ],\n",
       "       [0.52346882],\n",
       "       [0.4394799 ],\n",
       "       [0.59030333],\n",
       "       [0.21465393],\n",
       "       [0.40748954],\n",
       "       [0.39491612],\n",
       "       [0.84135665],\n",
       "       [0.51242794],\n",
       "       [0.41877109],\n",
       "       [0.16927108],\n",
       "       [0.6410964 ],\n",
       "       [0.19913093],\n",
       "       [0.8803726 ],\n",
       "       [0.12145235],\n",
       "       [0.584644  ],\n",
       "       [0.84001906],\n",
       "       [0.56367851],\n",
       "       [0.8020253 ],\n",
       "       [0.47780964],\n",
       "       [0.47285474],\n",
       "       [0.49024423],\n",
       "       [0.52803476],\n",
       "       [0.65655567],\n",
       "       [0.48336105],\n",
       "       [0.23649257]])"
      ]
     },
     "execution_count": 155,
     "metadata": {},
     "output_type": "execute_result"
    }
   ],
   "source": [
    "models = [model1, model2, model3,model4]\n",
    "preds = [model.predict(train_set) for model in models]\n",
    "preds=np.array(preds)\n",
    "weights = [0.4, 0.2, 0.1, 0.3]\n",
    "weighted_preds = np.tensordot(preds,weights, axes=((0),(0)))\n",
    "weighted_preds"
   ]
  },
  {
   "cell_type": "code",
   "execution_count": 156,
   "metadata": {},
   "outputs": [
    {
     "name": "stdout",
     "output_type": "stream",
     "text": [
      "[0 0 0 0 0 0 0 0 0 0 0 0 0 0 0 0 0 0 0 0 0 0 0 0 0 0 0 0 0 0]\n"
     ]
    }
   ],
   "source": [
    "weighted_ensemble_prediction = np.argmax(weighted_preds, axis=1)\n",
    "print(weighted_ensemble_prediction)"
   ]
  },
  {
   "cell_type": "code",
   "execution_count": 157,
   "metadata": {},
   "outputs": [
    {
     "name": "stdout",
     "output_type": "stream",
     "text": [
      "[0 0 0 0 0 0 0 0 0 0 0 0 0 0 0 1 1 1 1 1 1 1 1 1 1 1 1 1 1 1]\n"
     ]
    },
    {
     "data": {
      "text/plain": [
       "0.5"
      ]
     },
     "execution_count": 157,
     "metadata": {},
     "output_type": "execute_result"
    }
   ],
   "source": [
    "weighted_accuracy = accuracy_score(train_set.classes, weighted_ensemble_prediction)\n",
    "print(train_set.classes)\n",
    "weighted_accuracy"
   ]
  }
 ],
 "metadata": {
  "interpreter": {
   "hash": "8a460da068ad21e825cd853dee63733b8b91400b72d458b93ad7c646498b211f"
  },
  "kernelspec": {
   "display_name": "Python 3.9.7 ('base')",
   "language": "python",
   "name": "python3"
  },
  "language_info": {
   "codemirror_mode": {
    "name": "ipython",
    "version": 3
   },
   "file_extension": ".py",
   "mimetype": "text/x-python",
   "name": "python",
   "nbconvert_exporter": "python",
   "pygments_lexer": "ipython3",
   "version": "3.9.7"
  },
  "orig_nbformat": 4
 },
 "nbformat": 4,
 "nbformat_minor": 2
}

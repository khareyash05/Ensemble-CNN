{
 "cells": [
  {
   "cell_type": "code",
   "execution_count": 71,
   "metadata": {},
   "outputs": [],
   "source": [
    "import tensorflow as tf\n",
    "from keras.preprocessing.image import ImageDataGenerator"
   ]
  },
  {
   "cell_type": "code",
   "execution_count": 72,
   "metadata": {},
   "outputs": [
    {
     "name": "stdout",
     "output_type": "stream",
     "text": [
      "Found 72 images belonging to 2 classes.\n"
     ]
    }
   ],
   "source": [
    "train_datagen = ImageDataGenerator(rescale=1./255,\n",
    "                                      shear_range=0.2, \n",
    "                                        zoom_range=0.2,\n",
    "                                        horizontal_flip=True)\n",
    "train_set = train_datagen.flow_from_directory(\n",
    "        'dataset/train',\n",
    "        target_size = (32,32),\n",
    "        color_mode=\"grayscale\",\n",
    "        batch_size=4,\n",
    "        class_mode='binary'\n",
    "        ) "
   ]
  },
  {
   "cell_type": "code",
   "execution_count": 73,
   "metadata": {},
   "outputs": [
    {
     "name": "stdout",
     "output_type": "stream",
     "text": [
      "Found 30 images belonging to 2 classes.\n"
     ]
    }
   ],
   "source": [
    "test_datagen = ImageDataGenerator(rescale=1./255)\n",
    "test_set = test_datagen.flow_from_directory(\n",
    "        'dataset/test',\n",
    "        target_size=(32,32),\n",
    "        batch_size=4,\n",
    "        color_mode=\"grayscale\",\n",
    "        class_mode='binary')"
   ]
  },
  {
   "cell_type": "code",
   "execution_count": 74,
   "metadata": {},
   "outputs": [
    {
     "name": "stdout",
     "output_type": "stream",
     "text": [
      "Model: \"sequential_24\"\n",
      "_________________________________________________________________\n",
      " Layer (type)                Output Shape              Param #   \n",
      "=================================================================\n",
      " conv2d_48 (Conv2D)          (None, 28, 28, 64)        1664      \n",
      "                                                                 \n",
      " max_pooling2d_48 (MaxPoolin  (None, 14, 14, 64)       0         \n",
      " g2D)                                                            \n",
      "                                                                 \n",
      " conv2d_49 (Conv2D)          (None, 10, 10, 64)        102464    \n",
      "                                                                 \n",
      " max_pooling2d_49 (MaxPoolin  (None, 5, 5, 64)         0         \n",
      " g2D)                                                            \n",
      "                                                                 \n",
      " flatten_24 (Flatten)        (None, 1600)              0         \n",
      "                                                                 \n",
      " dense_48 (Dense)            (None, 128)               204928    \n",
      "                                                                 \n",
      " dense_49 (Dense)            (None, 1)                 129       \n",
      "                                                                 \n",
      "=================================================================\n",
      "Total params: 309,185\n",
      "Trainable params: 309,185\n",
      "Non-trainable params: 0\n",
      "_________________________________________________________________\n"
     ]
    }
   ],
   "source": [
    "cnn = tf.keras.models.Sequential()\n",
    "cnn.add(tf.keras.layers.Conv2D(filters=64,kernel_size=5,activation=\"elu\",input_shape=[32,32,1]))\n",
    "cnn.add(tf.keras.layers.MaxPool2D(pool_size=2,strides=2))\n",
    "cnn.add(tf.keras.layers.Conv2D(filters=64,kernel_size=5,activation=\"elu\"))\n",
    "cnn.add(tf.keras.layers.MaxPool2D(pool_size=2,strides=2))\n",
    "cnn.add(tf.keras.layers.Flatten())\n",
    "cnn.add(tf.keras.layers.Dense(units=128,activation=\"elu\"))\n",
    "cnn.add(tf.keras.layers.Dense(units=1, activation='sigmoid'))\n",
    "cnn.compile(optimizer = 'adam', loss = 'binary_crossentropy', metrics = ['accuracy'])\n",
    "cnn.summary()"
   ]
  },
  {
   "cell_type": "code",
   "execution_count": 75,
   "metadata": {},
   "outputs": [
    {
     "name": "stdout",
     "output_type": "stream",
     "text": [
      "Epoch 1/25\n",
      "18/18 [==============================] - 2s 42ms/step - loss: 1.0770 - accuracy: 0.5000 - val_loss: 0.6919 - val_accuracy: 0.5000\n",
      "Epoch 2/25\n",
      "18/18 [==============================] - 1s 32ms/step - loss: 0.7179 - accuracy: 0.5000 - val_loss: 0.7958 - val_accuracy: 0.5000\n",
      "Epoch 3/25\n",
      "18/18 [==============================] - 1s 32ms/step - loss: 0.7607 - accuracy: 0.5694 - val_loss: 0.6973 - val_accuracy: 0.5000\n",
      "Epoch 4/25\n",
      "18/18 [==============================] - 1s 33ms/step - loss: 0.7845 - accuracy: 0.3194 - val_loss: 0.7007 - val_accuracy: 0.5000\n",
      "Epoch 5/25\n",
      "18/18 [==============================] - 1s 30ms/step - loss: 0.7050 - accuracy: 0.4583 - val_loss: 0.6924 - val_accuracy: 0.5000\n",
      "Epoch 6/25\n",
      "18/18 [==============================] - 1s 35ms/step - loss: 0.7013 - accuracy: 0.4583 - val_loss: 0.6852 - val_accuracy: 0.7000\n",
      "Epoch 7/25\n",
      "18/18 [==============================] - 1s 33ms/step - loss: 0.6917 - accuracy: 0.5417 - val_loss: 0.6858 - val_accuracy: 0.5000\n",
      "Epoch 8/25\n",
      "18/18 [==============================] - 1s 32ms/step - loss: 0.6923 - accuracy: 0.5833 - val_loss: 0.6849 - val_accuracy: 0.4667\n",
      "Epoch 9/25\n",
      "18/18 [==============================] - 1s 41ms/step - loss: 0.6834 - accuracy: 0.4861 - val_loss: 0.6796 - val_accuracy: 0.6333\n",
      "Epoch 10/25\n",
      "18/18 [==============================] - 1s 29ms/step - loss: 0.6722 - accuracy: 0.5972 - val_loss: 0.6743 - val_accuracy: 0.6667\n",
      "Epoch 11/25\n",
      "18/18 [==============================] - 1s 31ms/step - loss: 0.6614 - accuracy: 0.6806 - val_loss: 0.6751 - val_accuracy: 0.6000\n",
      "Epoch 12/25\n",
      "18/18 [==============================] - 1s 31ms/step - loss: 0.6480 - accuracy: 0.7222 - val_loss: 0.6720 - val_accuracy: 0.5667\n",
      "Epoch 13/25\n",
      "18/18 [==============================] - 1s 31ms/step - loss: 0.6454 - accuracy: 0.7222 - val_loss: 0.6549 - val_accuracy: 0.5333\n",
      "Epoch 14/25\n",
      "18/18 [==============================] - 1s 31ms/step - loss: 0.6434 - accuracy: 0.6389 - val_loss: 0.7438 - val_accuracy: 0.5000\n",
      "Epoch 15/25\n",
      "18/18 [==============================] - 1s 32ms/step - loss: 0.6731 - accuracy: 0.5417 - val_loss: 0.7476 - val_accuracy: 0.5333\n",
      "Epoch 16/25\n",
      "18/18 [==============================] - 1s 31ms/step - loss: 0.6181 - accuracy: 0.6389 - val_loss: 0.6678 - val_accuracy: 0.6333\n",
      "Epoch 17/25\n",
      "18/18 [==============================] - 1s 31ms/step - loss: 0.6359 - accuracy: 0.6528 - val_loss: 0.6570 - val_accuracy: 0.5667\n",
      "Epoch 18/25\n",
      "18/18 [==============================] - 1s 31ms/step - loss: 0.5988 - accuracy: 0.6806 - val_loss: 0.8678 - val_accuracy: 0.5333\n",
      "Epoch 19/25\n",
      "18/18 [==============================] - 1s 30ms/step - loss: 0.5982 - accuracy: 0.7083 - val_loss: 0.6271 - val_accuracy: 0.6333\n",
      "Epoch 20/25\n",
      "18/18 [==============================] - 1s 31ms/step - loss: 0.5720 - accuracy: 0.7500 - val_loss: 0.8778 - val_accuracy: 0.5000\n",
      "Epoch 21/25\n",
      "18/18 [==============================] - 1s 32ms/step - loss: 0.5264 - accuracy: 0.7361 - val_loss: 0.6243 - val_accuracy: 0.7333\n",
      "Epoch 22/25\n",
      "18/18 [==============================] - 1s 44ms/step - loss: 0.5713 - accuracy: 0.7500 - val_loss: 0.7091 - val_accuracy: 0.4000\n",
      "Epoch 23/25\n",
      "18/18 [==============================] - 1s 29ms/step - loss: 0.5104 - accuracy: 0.7361 - val_loss: 0.7126 - val_accuracy: 0.5000\n",
      "Epoch 24/25\n",
      "18/18 [==============================] - 1s 31ms/step - loss: 0.5071 - accuracy: 0.7222 - val_loss: 0.8077 - val_accuracy: 0.4667\n",
      "Epoch 25/25\n",
      "18/18 [==============================] - 1s 32ms/step - loss: 0.5264 - accuracy: 0.7917 - val_loss: 0.6209 - val_accuracy: 0.6000\n"
     ]
    }
   ],
   "source": [
    "cnn.fit(x = train_set, validation_data = test_set, epochs = 25)\n",
    "cnn.save('model1.h5')"
   ]
  },
  {
   "cell_type": "code",
   "execution_count": 76,
   "metadata": {},
   "outputs": [
    {
     "name": "stdout",
     "output_type": "stream",
     "text": [
      "Model: \"sequential_25\"\n",
      "_________________________________________________________________\n",
      " Layer (type)                Output Shape              Param #   \n",
      "=================================================================\n",
      " conv2d_50 (Conv2D)          (None, 28, 28, 128)       3328      \n",
      "                                                                 \n",
      " max_pooling2d_50 (MaxPoolin  (None, 9, 9, 128)        0         \n",
      " g2D)                                                            \n",
      "                                                                 \n",
      " conv2d_51 (Conv2D)          (None, 5, 5, 128)         409728    \n",
      "                                                                 \n",
      " max_pooling2d_51 (MaxPoolin  (None, 2, 2, 128)        0         \n",
      " g2D)                                                            \n",
      "                                                                 \n",
      " flatten_25 (Flatten)        (None, 512)               0         \n",
      "                                                                 \n",
      " dense_50 (Dense)            (None, 128)               65664     \n",
      "                                                                 \n",
      " dense_51 (Dense)            (None, 1)                 129       \n",
      "                                                                 \n",
      "=================================================================\n",
      "Total params: 478,849\n",
      "Trainable params: 478,849\n",
      "Non-trainable params: 0\n",
      "_________________________________________________________________\n"
     ]
    }
   ],
   "source": [
    "cnn1 = tf.keras.models.Sequential()\n",
    "cnn1.add(tf.keras.layers.Conv2D(filters=128,kernel_size=5,activation=\"relu\",input_shape=[32,32,1]))\n",
    "cnn1.add(tf.keras.layers.MaxPool2D(pool_size=2,strides=3))\n",
    "cnn1.add(tf.keras.layers.Conv2D(filters=128,kernel_size=5,activation=\"relu\"))\n",
    "cnn1.add(tf.keras.layers.MaxPool2D(pool_size=2,strides=3))\n",
    "cnn1.add(tf.keras.layers.Flatten())\n",
    "cnn1.add(tf.keras.layers.Dense(units=128,activation=\"relu\"))\n",
    "cnn1.add(tf.keras.layers.Dense(units=1, activation='sigmoid'))\n",
    "cnn1.compile(optimizer = 'adam', loss = 'binary_crossentropy', metrics = ['accuracy'])\n",
    "cnn1.summary()"
   ]
  },
  {
   "cell_type": "code",
   "execution_count": 77,
   "metadata": {},
   "outputs": [
    {
     "name": "stdout",
     "output_type": "stream",
     "text": [
      "Epoch 1/25\n",
      "18/18 [==============================] - 2s 45ms/step - loss: 0.7347 - accuracy: 0.5000 - val_loss: 0.6950 - val_accuracy: 0.5000\n",
      "Epoch 2/25\n",
      "18/18 [==============================] - 1s 37ms/step - loss: 0.6959 - accuracy: 0.4861 - val_loss: 0.6934 - val_accuracy: 0.5000\n",
      "Epoch 3/25\n",
      "18/18 [==============================] - 1s 31ms/step - loss: 0.6971 - accuracy: 0.5000 - val_loss: 0.6934 - val_accuracy: 0.5000\n",
      "Epoch 4/25\n",
      "18/18 [==============================] - 1s 33ms/step - loss: 0.6949 - accuracy: 0.4444 - val_loss: 0.6931 - val_accuracy: 0.5000\n",
      "Epoch 5/25\n",
      "18/18 [==============================] - 1s 32ms/step - loss: 0.6937 - accuracy: 0.4444 - val_loss: 0.6931 - val_accuracy: 0.5000\n",
      "Epoch 6/25\n",
      "18/18 [==============================] - 1s 32ms/step - loss: 0.6933 - accuracy: 0.5000 - val_loss: 0.6931 - val_accuracy: 0.5000\n",
      "Epoch 7/25\n",
      "18/18 [==============================] - 1s 33ms/step - loss: 0.6941 - accuracy: 0.5000 - val_loss: 0.6931 - val_accuracy: 0.5000\n",
      "Epoch 8/25\n",
      "18/18 [==============================] - 1s 35ms/step - loss: 0.6938 - accuracy: 0.4167 - val_loss: 0.6931 - val_accuracy: 0.5000\n",
      "Epoch 9/25\n",
      "18/18 [==============================] - 1s 33ms/step - loss: 0.6933 - accuracy: 0.3889 - val_loss: 0.6931 - val_accuracy: 0.5000\n",
      "Epoch 10/25\n",
      "18/18 [==============================] - 1s 32ms/step - loss: 0.6933 - accuracy: 0.5000 - val_loss: 0.6931 - val_accuracy: 0.5000\n",
      "Epoch 11/25\n",
      "18/18 [==============================] - 1s 30ms/step - loss: 0.6934 - accuracy: 0.5000 - val_loss: 0.6931 - val_accuracy: 0.5000\n",
      "Epoch 12/25\n",
      "18/18 [==============================] - 1s 32ms/step - loss: 0.6934 - accuracy: 0.4444 - val_loss: 0.6931 - val_accuracy: 0.5333\n",
      "Epoch 13/25\n",
      "18/18 [==============================] - 1s 34ms/step - loss: 0.6933 - accuracy: 0.4722 - val_loss: 0.6931 - val_accuracy: 0.5000\n",
      "Epoch 14/25\n",
      "18/18 [==============================] - 1s 35ms/step - loss: 0.6934 - accuracy: 0.4444 - val_loss: 0.6931 - val_accuracy: 0.5000\n",
      "Epoch 15/25\n",
      "18/18 [==============================] - 1s 41ms/step - loss: 0.6933 - accuracy: 0.4167 - val_loss: 0.6931 - val_accuracy: 0.5000\n",
      "Epoch 16/25\n",
      "18/18 [==============================] - 1s 33ms/step - loss: 0.6933 - accuracy: 0.5000 - val_loss: 0.6931 - val_accuracy: 0.5000\n",
      "Epoch 17/25\n",
      "18/18 [==============================] - 1s 34ms/step - loss: 0.6933 - accuracy: 0.5000 - val_loss: 0.6931 - val_accuracy: 0.5000\n",
      "Epoch 18/25\n",
      "18/18 [==============================] - 1s 35ms/step - loss: 0.6933 - accuracy: 0.5000 - val_loss: 0.6931 - val_accuracy: 0.5000\n",
      "Epoch 19/25\n",
      "18/18 [==============================] - 1s 34ms/step - loss: 0.6934 - accuracy: 0.5000 - val_loss: 0.6931 - val_accuracy: 0.5000\n",
      "Epoch 20/25\n",
      "18/18 [==============================] - 1s 31ms/step - loss: 0.6935 - accuracy: 0.5000 - val_loss: 0.6931 - val_accuracy: 0.5000\n",
      "Epoch 21/25\n",
      "18/18 [==============================] - 1s 34ms/step - loss: 0.6936 - accuracy: 0.4444 - val_loss: 0.6931 - val_accuracy: 0.7000\n",
      "Epoch 22/25\n",
      "18/18 [==============================] - 1s 32ms/step - loss: 0.6933 - accuracy: 0.4722 - val_loss: 0.6932 - val_accuracy: 0.5000\n",
      "Epoch 23/25\n",
      "18/18 [==============================] - 1s 32ms/step - loss: 0.6932 - accuracy: 0.5000 - val_loss: 0.6932 - val_accuracy: 0.5000\n",
      "Epoch 24/25\n",
      "18/18 [==============================] - 1s 31ms/step - loss: 0.6934 - accuracy: 0.5000 - val_loss: 0.6932 - val_accuracy: 0.5000\n",
      "Epoch 25/25\n",
      "18/18 [==============================] - 1s 33ms/step - loss: 0.6933 - accuracy: 0.5000 - val_loss: 0.6932 - val_accuracy: 0.5000\n"
     ]
    }
   ],
   "source": [
    "cnn1.fit(x = train_set, validation_data = test_set, epochs = 25)\n",
    "cnn1.save('model2.h5')"
   ]
  },
  {
   "cell_type": "code",
   "execution_count": 78,
   "metadata": {},
   "outputs": [
    {
     "name": "stdout",
     "output_type": "stream",
     "text": [
      "Model: \"sequential_26\"\n",
      "_________________________________________________________________\n",
      " Layer (type)                Output Shape              Param #   \n",
      "=================================================================\n",
      " conv2d_52 (Conv2D)          (None, 28, 28, 32)        832       \n",
      "                                                                 \n",
      " max_pooling2d_52 (MaxPoolin  (None, 14, 14, 32)       0         \n",
      " g2D)                                                            \n",
      "                                                                 \n",
      " conv2d_53 (Conv2D)          (None, 10, 10, 32)        25632     \n",
      "                                                                 \n",
      " max_pooling2d_53 (MaxPoolin  (None, 5, 5, 32)         0         \n",
      " g2D)                                                            \n",
      "                                                                 \n",
      " flatten_26 (Flatten)        (None, 800)               0         \n",
      "                                                                 \n",
      " dense_52 (Dense)            (None, 128)               102528    \n",
      "                                                                 \n",
      " dense_53 (Dense)            (None, 1)                 129       \n",
      "                                                                 \n",
      "=================================================================\n",
      "Total params: 129,121\n",
      "Trainable params: 129,121\n",
      "Non-trainable params: 0\n",
      "_________________________________________________________________\n"
     ]
    }
   ],
   "source": [
    "cnn2 = tf.keras.models.Sequential()\n",
    "cnn2.add(tf.keras.layers.Conv2D(filters=32,kernel_size=5,activation=\"selu\",input_shape=[32,32,1]))\n",
    "cnn2.add(tf.keras.layers.MaxPool2D(pool_size=2,strides=2))\n",
    "cnn2.add(tf.keras.layers.Conv2D(filters=32,kernel_size=5,activation=\"selu\"))\n",
    "cnn2.add(tf.keras.layers.MaxPool2D(pool_size=2,strides=2))\n",
    "cnn2.add(tf.keras.layers.Flatten())\n",
    "cnn2.add(tf.keras.layers.Dense(units=128,activation=\"selu\"))\n",
    "cnn2.add(tf.keras.layers.Dense(units=1, activation='sigmoid'))\n",
    "cnn2.compile(optimizer = 'adam', loss = 'binary_crossentropy', metrics = ['accuracy'])\n",
    "cnn2.summary()"
   ]
  },
  {
   "cell_type": "code",
   "execution_count": 79,
   "metadata": {},
   "outputs": [
    {
     "name": "stdout",
     "output_type": "stream",
     "text": [
      "Epoch 1/25\n",
      "18/18 [==============================] - 1s 40ms/step - loss: 1.3869 - accuracy: 0.5000 - val_loss: 0.7128 - val_accuracy: 0.5000\n",
      "Epoch 2/25\n",
      "18/18 [==============================] - 1s 27ms/step - loss: 0.7940 - accuracy: 0.4444 - val_loss: 0.6898 - val_accuracy: 0.5333\n",
      "Epoch 3/25\n",
      "18/18 [==============================] - 1s 27ms/step - loss: 0.7464 - accuracy: 0.5000 - val_loss: 0.7360 - val_accuracy: 0.5000\n",
      "Epoch 4/25\n",
      "18/18 [==============================] - 0s 27ms/step - loss: 0.7188 - accuracy: 0.5000 - val_loss: 0.7691 - val_accuracy: 0.5000\n",
      "Epoch 5/25\n",
      "18/18 [==============================] - 0s 26ms/step - loss: 0.7127 - accuracy: 0.5556 - val_loss: 0.7239 - val_accuracy: 0.5000\n",
      "Epoch 6/25\n",
      "18/18 [==============================] - 1s 28ms/step - loss: 0.7160 - accuracy: 0.4722 - val_loss: 0.6847 - val_accuracy: 0.6000\n",
      "Epoch 7/25\n",
      "18/18 [==============================] - 0s 26ms/step - loss: 0.6863 - accuracy: 0.5556 - val_loss: 0.7457 - val_accuracy: 0.5000\n",
      "Epoch 8/25\n",
      "18/18 [==============================] - 1s 27ms/step - loss: 0.7219 - accuracy: 0.4306 - val_loss: 0.6981 - val_accuracy: 0.5333\n",
      "Epoch 9/25\n",
      "18/18 [==============================] - 1s 28ms/step - loss: 0.7042 - accuracy: 0.5000 - val_loss: 0.6904 - val_accuracy: 0.5000\n",
      "Epoch 10/25\n",
      "18/18 [==============================] - 1s 27ms/step - loss: 0.6860 - accuracy: 0.6528 - val_loss: 0.6887 - val_accuracy: 0.5333\n",
      "Epoch 11/25\n",
      "18/18 [==============================] - 0s 27ms/step - loss: 0.6581 - accuracy: 0.6389 - val_loss: 0.6883 - val_accuracy: 0.5667\n",
      "Epoch 12/25\n",
      "18/18 [==============================] - 0s 27ms/step - loss: 0.6410 - accuracy: 0.6389 - val_loss: 0.6717 - val_accuracy: 0.4667\n",
      "Epoch 13/25\n",
      "18/18 [==============================] - 1s 28ms/step - loss: 0.6435 - accuracy: 0.5833 - val_loss: 0.6894 - val_accuracy: 0.4000\n",
      "Epoch 14/25\n",
      "18/18 [==============================] - 1s 27ms/step - loss: 0.6282 - accuracy: 0.7222 - val_loss: 0.6975 - val_accuracy: 0.5000\n",
      "Epoch 15/25\n",
      "18/18 [==============================] - 1s 27ms/step - loss: 0.6480 - accuracy: 0.6528 - val_loss: 0.6864 - val_accuracy: 0.4667\n",
      "Epoch 16/25\n",
      "18/18 [==============================] - 0s 26ms/step - loss: 0.6262 - accuracy: 0.7222 - val_loss: 0.6705 - val_accuracy: 0.5333\n",
      "Epoch 17/25\n",
      "18/18 [==============================] - 0s 27ms/step - loss: 0.5952 - accuracy: 0.7361 - val_loss: 0.6802 - val_accuracy: 0.5667\n",
      "Epoch 18/25\n",
      "18/18 [==============================] - 0s 26ms/step - loss: 0.6407 - accuracy: 0.6250 - val_loss: 0.6627 - val_accuracy: 0.5667\n",
      "Epoch 19/25\n",
      "18/18 [==============================] - 0s 26ms/step - loss: 0.6067 - accuracy: 0.7083 - val_loss: 0.6604 - val_accuracy: 0.5333\n",
      "Epoch 20/25\n",
      "18/18 [==============================] - 0s 26ms/step - loss: 0.5827 - accuracy: 0.7083 - val_loss: 0.7262 - val_accuracy: 0.5333\n",
      "Epoch 21/25\n",
      "18/18 [==============================] - 0s 26ms/step - loss: 0.6083 - accuracy: 0.6806 - val_loss: 0.7532 - val_accuracy: 0.4667\n",
      "Epoch 22/25\n",
      "18/18 [==============================] - 1s 27ms/step - loss: 0.6808 - accuracy: 0.6389 - val_loss: 0.7231 - val_accuracy: 0.5000\n",
      "Epoch 23/25\n",
      "18/18 [==============================] - 0s 27ms/step - loss: 0.6017 - accuracy: 0.6250 - val_loss: 0.7141 - val_accuracy: 0.4667\n",
      "Epoch 24/25\n",
      "18/18 [==============================] - 0s 26ms/step - loss: 0.5524 - accuracy: 0.7639 - val_loss: 0.7078 - val_accuracy: 0.6000\n",
      "Epoch 25/25\n",
      "18/18 [==============================] - 0s 26ms/step - loss: 0.5127 - accuracy: 0.7500 - val_loss: 0.7673 - val_accuracy: 0.4667\n"
     ]
    }
   ],
   "source": [
    "cnn2.fit(x = train_set, validation_data = test_set, epochs = 25)\n",
    "cnn2.save('model3.h5')"
   ]
  },
  {
   "cell_type": "code",
   "execution_count": 80,
   "metadata": {},
   "outputs": [
    {
     "name": "stdout",
     "output_type": "stream",
     "text": [
      "Model: \"sequential_27\"\n",
      "_________________________________________________________________\n",
      " Layer (type)                Output Shape              Param #   \n",
      "=================================================================\n",
      " conv2d_54 (Conv2D)          (None, 28, 28, 64)        1664      \n",
      "                                                                 \n",
      " max_pooling2d_54 (MaxPoolin  (None, 14, 14, 64)       0         \n",
      " g2D)                                                            \n",
      "                                                                 \n",
      " conv2d_55 (Conv2D)          (None, 10, 10, 64)        102464    \n",
      "                                                                 \n",
      " max_pooling2d_55 (MaxPoolin  (None, 5, 5, 64)         0         \n",
      " g2D)                                                            \n",
      "                                                                 \n",
      " flatten_27 (Flatten)        (None, 1600)              0         \n",
      "                                                                 \n",
      " dense_54 (Dense)            (None, 128)               204928    \n",
      "                                                                 \n",
      " dense_55 (Dense)            (None, 1)                 129       \n",
      "                                                                 \n",
      "=================================================================\n",
      "Total params: 309,185\n",
      "Trainable params: 309,185\n",
      "Non-trainable params: 0\n",
      "_________________________________________________________________\n"
     ]
    }
   ],
   "source": [
    "cnn3 = tf.keras.models.Sequential()\n",
    "cnn3.add(tf.keras.layers.Conv2D(filters=64,kernel_size=5,activation=\"tanh\",input_shape=[32,32,1]))\n",
    "cnn3.add(tf.keras.layers.MaxPool2D(pool_size=2,strides=2))\n",
    "cnn3.add(tf.keras.layers.Conv2D(filters=64,kernel_size=5,activation=\"tanh\"))\n",
    "cnn3.add(tf.keras.layers.MaxPool2D(pool_size=2,strides=2))\n",
    "cnn3.add(tf.keras.layers.Flatten())\n",
    "cnn3.add(tf.keras.layers.Dense(units=128,activation=\"tanh\"))\n",
    "cnn3.add(tf.keras.layers.Dense(units=1, activation='sigmoid'))\n",
    "cnn3.compile(optimizer = 'adam', loss = 'binary_crossentropy', metrics = ['accuracy'])\n",
    "cnn3.summary()"
   ]
  },
  {
   "cell_type": "code",
   "execution_count": 81,
   "metadata": {},
   "outputs": [
    {
     "name": "stdout",
     "output_type": "stream",
     "text": [
      "Epoch 1/25\n",
      "18/18 [==============================] - 2s 38ms/step - loss: 1.4559 - accuracy: 0.5417 - val_loss: 0.6934 - val_accuracy: 0.5000\n",
      "Epoch 2/25\n",
      "18/18 [==============================] - 1s 28ms/step - loss: 0.7412 - accuracy: 0.4722 - val_loss: 0.8613 - val_accuracy: 0.5000\n",
      "Epoch 3/25\n",
      "18/18 [==============================] - 1s 29ms/step - loss: 0.8089 - accuracy: 0.4722 - val_loss: 0.7080 - val_accuracy: 0.5000\n",
      "Epoch 4/25\n",
      "18/18 [==============================] - 1s 29ms/step - loss: 0.7806 - accuracy: 0.5000 - val_loss: 0.8880 - val_accuracy: 0.5000\n",
      "Epoch 5/25\n",
      "18/18 [==============================] - 1s 31ms/step - loss: 0.7497 - accuracy: 0.5000 - val_loss: 0.6938 - val_accuracy: 0.5000\n",
      "Epoch 6/25\n",
      "18/18 [==============================] - 1s 30ms/step - loss: 0.7119 - accuracy: 0.4722 - val_loss: 0.6966 - val_accuracy: 0.5000\n",
      "Epoch 7/25\n",
      "18/18 [==============================] - 1s 30ms/step - loss: 0.7230 - accuracy: 0.3889 - val_loss: 0.6967 - val_accuracy: 0.5000\n",
      "Epoch 8/25\n",
      "18/18 [==============================] - 1s 31ms/step - loss: 0.6961 - accuracy: 0.5000 - val_loss: 0.6966 - val_accuracy: 0.5000\n",
      "Epoch 9/25\n",
      "18/18 [==============================] - 1s 29ms/step - loss: 0.7048 - accuracy: 0.4444 - val_loss: 0.6934 - val_accuracy: 0.5000\n",
      "Epoch 10/25\n",
      "18/18 [==============================] - 1s 30ms/step - loss: 0.7124 - accuracy: 0.4722 - val_loss: 0.6951 - val_accuracy: 0.5000\n",
      "Epoch 11/25\n",
      "18/18 [==============================] - 1s 29ms/step - loss: 0.7154 - accuracy: 0.4722 - val_loss: 0.6962 - val_accuracy: 0.5000\n",
      "Epoch 12/25\n",
      "18/18 [==============================] - 1s 30ms/step - loss: 0.7101 - accuracy: 0.4444 - val_loss: 0.6949 - val_accuracy: 0.5000\n",
      "Epoch 13/25\n",
      "18/18 [==============================] - 1s 29ms/step - loss: 0.7097 - accuracy: 0.4444 - val_loss: 0.6956 - val_accuracy: 0.5000\n",
      "Epoch 14/25\n",
      "18/18 [==============================] - 1s 31ms/step - loss: 0.7135 - accuracy: 0.4444 - val_loss: 0.6932 - val_accuracy: 0.5000\n",
      "Epoch 15/25\n",
      "18/18 [==============================] - 1s 30ms/step - loss: 0.7101 - accuracy: 0.4722 - val_loss: 0.6965 - val_accuracy: 0.5000\n",
      "Epoch 16/25\n",
      "18/18 [==============================] - 1s 29ms/step - loss: 0.6936 - accuracy: 0.4722 - val_loss: 0.6938 - val_accuracy: 0.5000\n",
      "Epoch 17/25\n",
      "18/18 [==============================] - 1s 30ms/step - loss: 0.7109 - accuracy: 0.4444 - val_loss: 0.6946 - val_accuracy: 0.5000\n",
      "Epoch 18/25\n",
      "18/18 [==============================] - 1s 29ms/step - loss: 0.7043 - accuracy: 0.3889 - val_loss: 0.6932 - val_accuracy: 0.5000\n",
      "Epoch 19/25\n",
      "18/18 [==============================] - 1s 28ms/step - loss: 0.7045 - accuracy: 0.3056 - val_loss: 0.6936 - val_accuracy: 0.5000\n",
      "Epoch 20/25\n",
      "18/18 [==============================] - 1s 28ms/step - loss: 0.6952 - accuracy: 0.5000 - val_loss: 0.6937 - val_accuracy: 0.5000\n",
      "Epoch 21/25\n",
      "18/18 [==============================] - 1s 29ms/step - loss: 0.6961 - accuracy: 0.5000 - val_loss: 0.6933 - val_accuracy: 0.5000\n",
      "Epoch 22/25\n",
      "18/18 [==============================] - 1s 28ms/step - loss: 0.6999 - accuracy: 0.5000 - val_loss: 0.6940 - val_accuracy: 0.5000\n",
      "Epoch 23/25\n",
      "18/18 [==============================] - 1s 31ms/step - loss: 0.7041 - accuracy: 0.4722 - val_loss: 0.6935 - val_accuracy: 0.5000\n",
      "Epoch 24/25\n",
      "18/18 [==============================] - 1s 33ms/step - loss: 0.6973 - accuracy: 0.4722 - val_loss: 0.6952 - val_accuracy: 0.5000\n",
      "Epoch 25/25\n",
      "18/18 [==============================] - 1s 31ms/step - loss: 0.7075 - accuracy: 0.4722 - val_loss: 0.6961 - val_accuracy: 0.5000\n"
     ]
    }
   ],
   "source": [
    "cnn3.fit(x = train_set, validation_data = test_set, epochs = 25)\n",
    "cnn3.save('model4.h5')"
   ]
  }
 ],
 "metadata": {
  "interpreter": {
   "hash": "8a460da068ad21e825cd853dee63733b8b91400b72d458b93ad7c646498b211f"
  },
  "kernelspec": {
   "display_name": "Python 3.9.7 ('base')",
   "language": "python",
   "name": "python3"
  },
  "language_info": {
   "codemirror_mode": {
    "name": "ipython",
    "version": 3
   },
   "file_extension": ".py",
   "mimetype": "text/x-python",
   "name": "python",
   "nbconvert_exporter": "python",
   "pygments_lexer": "ipython3",
   "version": "3.9.7"
  },
  "orig_nbformat": 4
 },
 "nbformat": 4,
 "nbformat_minor": 2
}

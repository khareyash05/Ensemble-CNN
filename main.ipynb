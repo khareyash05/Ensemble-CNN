{
 "cells": [
  {
   "cell_type": "code",
   "execution_count": 9,
   "metadata": {},
   "outputs": [],
   "source": [
    "import pandas as pd\n",
    "import numpy as np\n",
    "import matplotlib.pyplot as plt"
   ]
  },
  {
   "cell_type": "code",
   "execution_count": 10,
   "metadata": {},
   "outputs": [],
   "source": [
    "from keras.preprocessing.image import ImageDataGenerator\n",
    "from keras.models import Sequential\n",
    "from keras.layers import Dense, Dropout, Flatten, Conv2D, MaxPool2D, BatchNormalization"
   ]
  },
  {
   "cell_type": "code",
   "execution_count": 11,
   "metadata": {},
   "outputs": [
    {
     "name": "stdout",
     "output_type": "stream",
     "text": [
      "Found 60 images belonging to 2 classes.\n"
     ]
    }
   ],
   "source": [
    "train_datagen = ImageDataGenerator(rescale=1./255,\n",
    "                                      shear_range=0.2, \n",
    "                                        zoom_range=0.2,\n",
    "                                        horizontal_flip=True)\n",
    "x_train = train_datagen.flow_from_directory(\n",
    "        'dataset/train',\n",
    "        target_size = (32,32),\n",
    "        color_mode=\"grayscale\",\n",
    "        batch_size=4,\n",
    "        class_mode='binary'\n",
    "        )"
   ]
  },
  {
   "cell_type": "code",
   "execution_count": 12,
   "metadata": {},
   "outputs": [
    {
     "name": "stdout",
     "output_type": "stream",
     "text": [
      "Found 60 images belonging to 2 classes.\n"
     ]
    }
   ],
   "source": [
    "test_datagen = ImageDataGenerator(rescale=1./255)\n",
    "x_test = test_datagen.flow_from_directory(\n",
    "        'dataset/test',\n",
    "        target_size=(32,32),\n",
    "        batch_size=4,\n",
    "        color_mode=\"grayscale\",\n",
    "        class_mode='binary')"
   ]
  },
  {
   "cell_type": "code",
   "execution_count": 13,
   "metadata": {},
   "outputs": [],
   "source": [
    "nets = 20\n",
    "model = [0] *nets\n",
    "for j in range(nets):\n",
    "    model[j] = Sequential()\n",
    "    model[j].add(Conv2D(32, kernel_size = 3, activation='elu', input_shape = (32,32,1)))\n",
    "    model[j].add(BatchNormalization())\n",
    "    model[j].add(Conv2D(32, kernel_size = 3, activation='elu'))\n",
    "    model[j].add(BatchNormalization())\n",
    "    model[j].add(Conv2D(32, kernel_size = 5, strides=2, padding='same', activation='elu'))\n",
    "    model[j].add(BatchNormalization())\n",
    "    model[j].add(Dropout(0.4))\n",
    "\n",
    "    #Second Layer of CNN\n",
    "    model[j].add(Conv2D(64, kernel_size = 3, activation='elu'))\n",
    "    model[j].add(BatchNormalization())\n",
    "    model[j].add(Conv2D(64, kernel_size = 3, activation='elu'))\n",
    "    model[j].add(BatchNormalization())\n",
    "    model[j].add(Conv2D(64, kernel_size = 5, strides=2, padding='same', activation='elu'))\n",
    "    model[j].add(BatchNormalization())\n",
    "    model[j].add(Dropout(0.4))\n",
    "\n",
    "    #Third layer of CNN\n",
    "    model[j].add(Conv2D(128, kernel_size = 4, activation='elu'))\n",
    "    model[j].add(BatchNormalization())\n",
    "    model[j].add(Flatten())\n",
    "    model[j].add(Dropout(0.4))\n",
    "\n",
    "    #Output layer\n",
    "    model[j].add(Dense(1, activation='sigmoid'))\n",
    "\n",
    "    # Compile each model\n",
    "    model[j].compile(optimizer='adam', loss=\"binary_crossentropy\", metrics=[\"accuracy\"])"
   ]
  },
  {
   "cell_type": "code",
   "execution_count": 14,
   "metadata": {},
   "outputs": [],
   "source": [
    "from keras.callbacks import ReduceLROnPlateau\n",
    "learning_rate_reduction=ReduceLROnPlateau(monitor='val_accuracy', patience=3, verbose=0, factor=0.5, min_lr=0.00001)"
   ]
  },
  {
   "cell_type": "code",
   "execution_count": 15,
   "metadata": {},
   "outputs": [],
   "source": [
    "history = [0] * nets\n",
    "epochs = 35"
   ]
  },
  {
   "cell_type": "code",
   "execution_count": 16,
   "metadata": {},
   "outputs": [
    {
     "name": "stdout",
     "output_type": "stream",
     "text": [
      "Individual Net : 1\n",
      "CNN Model 1: Epochs=35, accuracy=0.92857, Validation accuracy=0.55000\n",
      "Individual Net : 2\n",
      "CNN Model 2: Epochs=35, accuracy=0.89286, Validation accuracy=0.56667\n",
      "Individual Net : 3\n",
      "CNN Model 3: Epochs=35, accuracy=0.92857, Validation accuracy=0.51667\n",
      "Individual Net : 4\n",
      "CNN Model 4: Epochs=35, accuracy=0.92857, Validation accuracy=0.50000\n",
      "Individual Net : 5\n",
      "CNN Model 5: Epochs=35, accuracy=0.92857, Validation accuracy=0.56667\n",
      "Individual Net : 6\n",
      "CNN Model 6: Epochs=35, accuracy=0.85714, Validation accuracy=0.53333\n",
      "Individual Net : 7\n",
      "CNN Model 7: Epochs=35, accuracy=0.92857, Validation accuracy=0.58333\n",
      "Individual Net : 8\n",
      "CNN Model 8: Epochs=35, accuracy=0.92857, Validation accuracy=0.50000\n",
      "Individual Net : 9\n",
      "CNN Model 9: Epochs=35, accuracy=0.92857, Validation accuracy=0.50000\n",
      "Individual Net : 10\n",
      "CNN Model 10: Epochs=35, accuracy=0.89286, Validation accuracy=0.50000\n",
      "Individual Net : 11\n",
      "CNN Model 11: Epochs=35, accuracy=0.92857, Validation accuracy=0.50000\n",
      "Individual Net : 12\n",
      "CNN Model 12: Epochs=35, accuracy=0.92857, Validation accuracy=0.63333\n",
      "Individual Net : 13\n",
      "CNN Model 13: Epochs=35, accuracy=0.89286, Validation accuracy=0.53333\n",
      "Individual Net : 14\n",
      "CNN Model 14: Epochs=35, accuracy=0.92857, Validation accuracy=0.50000\n",
      "Individual Net : 15\n",
      "CNN Model 15: Epochs=35, accuracy=0.92857, Validation accuracy=0.50000\n",
      "Individual Net : 16\n",
      "CNN Model 16: Epochs=35, accuracy=0.96429, Validation accuracy=0.51667\n",
      "Individual Net : 17\n",
      "CNN Model 17: Epochs=35, accuracy=0.92857, Validation accuracy=0.53333\n",
      "Individual Net : 18\n",
      "CNN Model 18: Epochs=35, accuracy=0.85714, Validation accuracy=0.50000\n",
      "Individual Net : 19\n",
      "CNN Model 19: Epochs=35, accuracy=1.00000, Validation accuracy=0.55000\n",
      "Individual Net : 20\n",
      "CNN Model 20: Epochs=35, accuracy=0.89286, Validation accuracy=0.50000\n"
     ]
    }
   ],
   "source": [
    "for j in range(nets):\n",
    "    print(f'Individual Net : {j+1}')   \n",
    "    history[j] = model[j].fit(x_train, epochs = epochs, steps_per_epoch = 7, validation_data = x_test, callbacks=[learning_rate_reduction], verbose=0)\n",
    "\n",
    "    print(\"CNN Model {0:d}: Epochs={1:d}, accuracy={2:.5f}, Validation accuracy={3:.5f}\".format(j+1,epochs,max(history[j].history['accuracy']),max(history[j].history['val_accuracy']) ))    "
   ]
  }
 ],
 "metadata": {
  "interpreter": {
   "hash": "b13cae039e46398518c78f273f664ab59a0396b5c4cd01c50b884350ed5f7e8a"
  },
  "kernelspec": {
   "display_name": "Python 3.9.7 ('base')",
   "language": "python",
   "name": "python3"
  },
  "language_info": {
   "codemirror_mode": {
    "name": "ipython",
    "version": 3
   },
   "file_extension": ".py",
   "mimetype": "text/x-python",
   "name": "python",
   "nbconvert_exporter": "python",
   "pygments_lexer": "ipython3",
   "version": "3.9.7"
  },
  "orig_nbformat": 4
 },
 "nbformat": 4,
 "nbformat_minor": 2
}
